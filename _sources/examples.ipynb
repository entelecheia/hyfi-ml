{
 "cells": [
  {
   "cell_type": "markdown",
   "id": "56f4ec24",
   "metadata": {},
   "source": [
    "# Examples\n",
    "\n",
    "This page contains a few examples of how you can use HyFI-ML package.\n",
    "\n",
    "## Installation\n",
    "\n",
    "You can install HyFI-ML using `pip`:"
   ]
  },
  {
   "cell_type": "code",
   "execution_count": 1,
   "id": "f2889697",
   "metadata": {},
   "outputs": [
    {
     "name": "stdout",
     "output_type": "stream",
     "text": [
      "Requirement already satisfied: hyfi-ml in /opt/hostedtoolcache/Python/3.9.18/x64/lib/python3.9/site-packages (0.0.0)\r\n",
      "Requirement already satisfied: click<9.0.0,>=8.1.3 in /opt/hostedtoolcache/Python/3.9.18/x64/lib/python3.9/site-packages (from hyfi-ml) (8.1.7)\r\n",
      "Requirement already satisfied: hyfi<2.0.0,>=1.35.3 in /opt/hostedtoolcache/Python/3.9.18/x64/lib/python3.9/site-packages (from hyfi-ml) (1.35.3)\r\n",
      "Requirement already satisfied: chardet<=5.2.0 in /opt/hostedtoolcache/Python/3.9.18/x64/lib/python3.9/site-packages (from hyfi<2.0.0,>=1.35.3->hyfi-ml) (5.2.0)\r\n",
      "Requirement already satisfied: colorama<0.5.0,>=0.4.3 in /opt/hostedtoolcache/Python/3.9.18/x64/lib/python3.9/site-packages (from hyfi<2.0.0,>=1.35.3->hyfi-ml) (0.4.6)\r\n",
      "Requirement already satisfied: datasets<=2.18.0,>=2.0.0 in /opt/hostedtoolcache/Python/3.9.18/x64/lib/python3.9/site-packages (from hyfi<2.0.0,>=1.35.3->hyfi-ml) (2.18.0)\r\n",
      "Requirement already satisfied: filelock<=3.13.1,>=3.4 in /opt/hostedtoolcache/Python/3.9.18/x64/lib/python3.9/site-packages (from hyfi<2.0.0,>=1.35.3->hyfi-ml) (3.13.1)\r\n",
      "Requirement already satisfied: gdown<=5.1.0 in /opt/hostedtoolcache/Python/3.9.18/x64/lib/python3.9/site-packages (from hyfi<2.0.0,>=1.35.3->hyfi-ml) (5.1.0)\r\n",
      "Requirement already satisfied: huggingface-hub<=0.21.4,>=0.8.1 in /opt/hostedtoolcache/Python/3.9.18/x64/lib/python3.9/site-packages (from hyfi<2.0.0,>=1.35.3->hyfi-ml) (0.21.4)\r\n",
      "Requirement already satisfied: hydra-colorlog<2.0.0,>=1.2.0 in /opt/hostedtoolcache/Python/3.9.18/x64/lib/python3.9/site-packages (from hyfi<2.0.0,>=1.35.3->hyfi-ml) (1.2.0)\r\n",
      "Requirement already satisfied: hydra-core<2.0.0,>=1.3.2 in /opt/hostedtoolcache/Python/3.9.18/x64/lib/python3.9/site-packages (from hyfi<2.0.0,>=1.35.3->hyfi-ml) (1.3.2)\r\n",
      "Requirement already satisfied: joblib<=1.3.2,>=1.2.0 in /opt/hostedtoolcache/Python/3.9.18/x64/lib/python3.9/site-packages (from hyfi<2.0.0,>=1.35.3->hyfi-ml) (1.3.2)\r\n",
      "Requirement already satisfied: matplotlib<4.0.0,>=3.7.1 in /opt/hostedtoolcache/Python/3.9.18/x64/lib/python3.9/site-packages (from hyfi<2.0.0,>=1.35.3->hyfi-ml) (3.8.3)\r\n",
      "Requirement already satisfied: numpy<=1.26.4,>=1.26.0 in /opt/hostedtoolcache/Python/3.9.18/x64/lib/python3.9/site-packages (from hyfi<2.0.0,>=1.35.3->hyfi-ml) (1.26.4)\r\n",
      "Requirement already satisfied: pandas<=2.2.1,>=1.5.3 in /opt/hostedtoolcache/Python/3.9.18/x64/lib/python3.9/site-packages (from hyfi<2.0.0,>=1.35.3->hyfi-ml) (2.2.1)\r\n",
      "Requirement already satisfied: pathspec>=0.9.0 in /opt/hostedtoolcache/Python/3.9.18/x64/lib/python3.9/site-packages (from hyfi<2.0.0,>=1.35.3->hyfi-ml) (0.12.1)\r\n",
      "Requirement already satisfied: pyarrow<=15.0.1 in /opt/hostedtoolcache/Python/3.9.18/x64/lib/python3.9/site-packages (from hyfi<2.0.0,>=1.35.3->hyfi-ml) (15.0.1)\r\n",
      "Requirement already satisfied: pydantic<3.0.0,>=2.3.0 in /opt/hostedtoolcache/Python/3.9.18/x64/lib/python3.9/site-packages (from hyfi<2.0.0,>=1.35.3->hyfi-ml) (2.6.4)\r\n",
      "Requirement already satisfied: pydantic-settings<3.0.0,>=2.0.1 in /opt/hostedtoolcache/Python/3.9.18/x64/lib/python3.9/site-packages (from hyfi<2.0.0,>=1.35.3->hyfi-ml) (2.2.1)\r\n",
      "Requirement already satisfied: python-dotenv<2.0.0,>=1.0.0 in /opt/hostedtoolcache/Python/3.9.18/x64/lib/python3.9/site-packages (from hyfi<2.0.0,>=1.35.3->hyfi-ml) (1.0.1)\r\n",
      "Requirement already satisfied: requests<3.0.0,>=2.27.1 in /opt/hostedtoolcache/Python/3.9.18/x64/lib/python3.9/site-packages (from hyfi<2.0.0,>=1.35.3->hyfi-ml) (2.31.0)\r\n",
      "Requirement already satisfied: rich<14.0,>=12.1 in /opt/hostedtoolcache/Python/3.9.18/x64/lib/python3.9/site-packages (from hyfi<2.0.0,>=1.35.3->hyfi-ml) (13.7.1)\r\n",
      "Requirement already satisfied: scipy<2.0.0,>=1.10.1 in /opt/hostedtoolcache/Python/3.9.18/x64/lib/python3.9/site-packages (from hyfi<2.0.0,>=1.35.3->hyfi-ml) (1.12.0)\r\n",
      "Requirement already satisfied: tqdm<5.0.0,>=4.64.1 in /opt/hostedtoolcache/Python/3.9.18/x64/lib/python3.9/site-packages (from hyfi<2.0.0,>=1.35.3->hyfi-ml) (4.66.2)\r\n"
     ]
    },
    {
     "name": "stdout",
     "output_type": "stream",
     "text": [
      "Requirement already satisfied: pyarrow-hotfix in /opt/hostedtoolcache/Python/3.9.18/x64/lib/python3.9/site-packages (from datasets<=2.18.0,>=2.0.0->hyfi<2.0.0,>=1.35.3->hyfi-ml) (0.6)\r\n",
      "Requirement already satisfied: dill<0.3.9,>=0.3.0 in /opt/hostedtoolcache/Python/3.9.18/x64/lib/python3.9/site-packages (from datasets<=2.18.0,>=2.0.0->hyfi<2.0.0,>=1.35.3->hyfi-ml) (0.3.8)\r\n",
      "Requirement already satisfied: xxhash in /opt/hostedtoolcache/Python/3.9.18/x64/lib/python3.9/site-packages (from datasets<=2.18.0,>=2.0.0->hyfi<2.0.0,>=1.35.3->hyfi-ml) (3.4.1)\r\n",
      "Requirement already satisfied: multiprocess in /opt/hostedtoolcache/Python/3.9.18/x64/lib/python3.9/site-packages (from datasets<=2.18.0,>=2.0.0->hyfi<2.0.0,>=1.35.3->hyfi-ml) (0.70.16)\r\n",
      "Requirement already satisfied: fsspec<=2024.2.0,>=2023.1.0 in /opt/hostedtoolcache/Python/3.9.18/x64/lib/python3.9/site-packages (from fsspec[http]<=2024.2.0,>=2023.1.0->datasets<=2.18.0,>=2.0.0->hyfi<2.0.0,>=1.35.3->hyfi-ml) (2024.2.0)\r\n",
      "Requirement already satisfied: aiohttp in /opt/hostedtoolcache/Python/3.9.18/x64/lib/python3.9/site-packages (from datasets<=2.18.0,>=2.0.0->hyfi<2.0.0,>=1.35.3->hyfi-ml) (3.9.3)\r\n",
      "Requirement already satisfied: packaging in /opt/hostedtoolcache/Python/3.9.18/x64/lib/python3.9/site-packages (from datasets<=2.18.0,>=2.0.0->hyfi<2.0.0,>=1.35.3->hyfi-ml) (24.0)\r\n",
      "Requirement already satisfied: pyyaml>=5.1 in /opt/hostedtoolcache/Python/3.9.18/x64/lib/python3.9/site-packages (from datasets<=2.18.0,>=2.0.0->hyfi<2.0.0,>=1.35.3->hyfi-ml) (6.0.1)\r\n"
     ]
    },
    {
     "name": "stdout",
     "output_type": "stream",
     "text": [
      "Requirement already satisfied: beautifulsoup4 in /opt/hostedtoolcache/Python/3.9.18/x64/lib/python3.9/site-packages (from gdown<=5.1.0->hyfi<2.0.0,>=1.35.3->hyfi-ml) (4.12.3)\r\n"
     ]
    },
    {
     "name": "stdout",
     "output_type": "stream",
     "text": [
      "Requirement already satisfied: typing-extensions>=3.7.4.3 in /opt/hostedtoolcache/Python/3.9.18/x64/lib/python3.9/site-packages (from huggingface-hub<=0.21.4,>=0.8.1->hyfi<2.0.0,>=1.35.3->hyfi-ml) (4.10.0)\r\n",
      "Requirement already satisfied: colorlog in /opt/hostedtoolcache/Python/3.9.18/x64/lib/python3.9/site-packages (from hydra-colorlog<2.0.0,>=1.2.0->hyfi<2.0.0,>=1.35.3->hyfi-ml) (6.8.2)\r\n"
     ]
    },
    {
     "name": "stdout",
     "output_type": "stream",
     "text": [
      "Requirement already satisfied: omegaconf<2.4,>=2.2 in /opt/hostedtoolcache/Python/3.9.18/x64/lib/python3.9/site-packages (from hydra-core<2.0.0,>=1.3.2->hyfi<2.0.0,>=1.35.3->hyfi-ml) (2.3.0)\r\n",
      "Requirement already satisfied: antlr4-python3-runtime==4.9.* in /opt/hostedtoolcache/Python/3.9.18/x64/lib/python3.9/site-packages (from hydra-core<2.0.0,>=1.3.2->hyfi<2.0.0,>=1.35.3->hyfi-ml) (4.9.3)\r\n",
      "Requirement already satisfied: contourpy>=1.0.1 in /opt/hostedtoolcache/Python/3.9.18/x64/lib/python3.9/site-packages (from matplotlib<4.0.0,>=3.7.1->hyfi<2.0.0,>=1.35.3->hyfi-ml) (1.2.0)\r\n",
      "Requirement already satisfied: cycler>=0.10 in /opt/hostedtoolcache/Python/3.9.18/x64/lib/python3.9/site-packages (from matplotlib<4.0.0,>=3.7.1->hyfi<2.0.0,>=1.35.3->hyfi-ml) (0.12.1)\r\n",
      "Requirement already satisfied: fonttools>=4.22.0 in /opt/hostedtoolcache/Python/3.9.18/x64/lib/python3.9/site-packages (from matplotlib<4.0.0,>=3.7.1->hyfi<2.0.0,>=1.35.3->hyfi-ml) (4.50.0)\r\n",
      "Requirement already satisfied: kiwisolver>=1.3.1 in /opt/hostedtoolcache/Python/3.9.18/x64/lib/python3.9/site-packages (from matplotlib<4.0.0,>=3.7.1->hyfi<2.0.0,>=1.35.3->hyfi-ml) (1.4.5)\r\n",
      "Requirement already satisfied: pillow>=8 in /opt/hostedtoolcache/Python/3.9.18/x64/lib/python3.9/site-packages (from matplotlib<4.0.0,>=3.7.1->hyfi<2.0.0,>=1.35.3->hyfi-ml) (10.2.0)\r\n",
      "Requirement already satisfied: pyparsing>=2.3.1 in /opt/hostedtoolcache/Python/3.9.18/x64/lib/python3.9/site-packages (from matplotlib<4.0.0,>=3.7.1->hyfi<2.0.0,>=1.35.3->hyfi-ml) (3.1.2)\r\n",
      "Requirement already satisfied: python-dateutil>=2.7 in /opt/hostedtoolcache/Python/3.9.18/x64/lib/python3.9/site-packages (from matplotlib<4.0.0,>=3.7.1->hyfi<2.0.0,>=1.35.3->hyfi-ml) (2.9.0.post0)\r\n",
      "Requirement already satisfied: importlib-resources>=3.2.0 in /opt/hostedtoolcache/Python/3.9.18/x64/lib/python3.9/site-packages (from matplotlib<4.0.0,>=3.7.1->hyfi<2.0.0,>=1.35.3->hyfi-ml) (6.3.1)\r\n"
     ]
    },
    {
     "name": "stdout",
     "output_type": "stream",
     "text": [
      "Requirement already satisfied: pytz>=2020.1 in /opt/hostedtoolcache/Python/3.9.18/x64/lib/python3.9/site-packages (from pandas<=2.2.1,>=1.5.3->hyfi<2.0.0,>=1.35.3->hyfi-ml) (2024.1)\r\n",
      "Requirement already satisfied: tzdata>=2022.7 in /opt/hostedtoolcache/Python/3.9.18/x64/lib/python3.9/site-packages (from pandas<=2.2.1,>=1.5.3->hyfi<2.0.0,>=1.35.3->hyfi-ml) (2024.1)\r\n",
      "Requirement already satisfied: annotated-types>=0.4.0 in /opt/hostedtoolcache/Python/3.9.18/x64/lib/python3.9/site-packages (from pydantic<3.0.0,>=2.3.0->hyfi<2.0.0,>=1.35.3->hyfi-ml) (0.6.0)\r\n",
      "Requirement already satisfied: pydantic-core==2.16.3 in /opt/hostedtoolcache/Python/3.9.18/x64/lib/python3.9/site-packages (from pydantic<3.0.0,>=2.3.0->hyfi<2.0.0,>=1.35.3->hyfi-ml) (2.16.3)\r\n",
      "Requirement already satisfied: charset-normalizer<4,>=2 in /opt/hostedtoolcache/Python/3.9.18/x64/lib/python3.9/site-packages (from requests<3.0.0,>=2.27.1->hyfi<2.0.0,>=1.35.3->hyfi-ml) (3.3.2)\r\n",
      "Requirement already satisfied: idna<4,>=2.5 in /opt/hostedtoolcache/Python/3.9.18/x64/lib/python3.9/site-packages (from requests<3.0.0,>=2.27.1->hyfi<2.0.0,>=1.35.3->hyfi-ml) (3.6)\r\n",
      "Requirement already satisfied: urllib3<3,>=1.21.1 in /opt/hostedtoolcache/Python/3.9.18/x64/lib/python3.9/site-packages (from requests<3.0.0,>=2.27.1->hyfi<2.0.0,>=1.35.3->hyfi-ml) (2.2.1)\r\n"
     ]
    },
    {
     "name": "stdout",
     "output_type": "stream",
     "text": [
      "Requirement already satisfied: certifi>=2017.4.17 in /opt/hostedtoolcache/Python/3.9.18/x64/lib/python3.9/site-packages (from requests<3.0.0,>=2.27.1->hyfi<2.0.0,>=1.35.3->hyfi-ml) (2024.2.2)\r\n",
      "Requirement already satisfied: markdown-it-py>=2.2.0 in /opt/hostedtoolcache/Python/3.9.18/x64/lib/python3.9/site-packages (from rich<14.0,>=12.1->hyfi<2.0.0,>=1.35.3->hyfi-ml) (3.0.0)\r\n",
      "Requirement already satisfied: pygments<3.0.0,>=2.13.0 in /opt/hostedtoolcache/Python/3.9.18/x64/lib/python3.9/site-packages (from rich<14.0,>=12.1->hyfi<2.0.0,>=1.35.3->hyfi-ml) (2.17.2)\r\n"
     ]
    },
    {
     "name": "stdout",
     "output_type": "stream",
     "text": [
      "Requirement already satisfied: aiosignal>=1.1.2 in /opt/hostedtoolcache/Python/3.9.18/x64/lib/python3.9/site-packages (from aiohttp->datasets<=2.18.0,>=2.0.0->hyfi<2.0.0,>=1.35.3->hyfi-ml) (1.3.1)\r\n",
      "Requirement already satisfied: attrs>=17.3.0 in /opt/hostedtoolcache/Python/3.9.18/x64/lib/python3.9/site-packages (from aiohttp->datasets<=2.18.0,>=2.0.0->hyfi<2.0.0,>=1.35.3->hyfi-ml) (23.2.0)\r\n",
      "Requirement already satisfied: frozenlist>=1.1.1 in /opt/hostedtoolcache/Python/3.9.18/x64/lib/python3.9/site-packages (from aiohttp->datasets<=2.18.0,>=2.0.0->hyfi<2.0.0,>=1.35.3->hyfi-ml) (1.4.1)\r\n",
      "Requirement already satisfied: multidict<7.0,>=4.5 in /opt/hostedtoolcache/Python/3.9.18/x64/lib/python3.9/site-packages (from aiohttp->datasets<=2.18.0,>=2.0.0->hyfi<2.0.0,>=1.35.3->hyfi-ml) (6.0.5)\r\n",
      "Requirement already satisfied: yarl<2.0,>=1.0 in /opt/hostedtoolcache/Python/3.9.18/x64/lib/python3.9/site-packages (from aiohttp->datasets<=2.18.0,>=2.0.0->hyfi<2.0.0,>=1.35.3->hyfi-ml) (1.9.4)\r\n",
      "Requirement already satisfied: async-timeout<5.0,>=4.0 in /opt/hostedtoolcache/Python/3.9.18/x64/lib/python3.9/site-packages (from aiohttp->datasets<=2.18.0,>=2.0.0->hyfi<2.0.0,>=1.35.3->hyfi-ml) (4.0.3)\r\n",
      "Requirement already satisfied: zipp>=3.1.0 in /opt/hostedtoolcache/Python/3.9.18/x64/lib/python3.9/site-packages (from importlib-resources>=3.2.0->matplotlib<4.0.0,>=3.7.1->hyfi<2.0.0,>=1.35.3->hyfi-ml) (3.18.1)\r\n"
     ]
    },
    {
     "name": "stdout",
     "output_type": "stream",
     "text": [
      "Requirement already satisfied: mdurl~=0.1 in /opt/hostedtoolcache/Python/3.9.18/x64/lib/python3.9/site-packages (from markdown-it-py>=2.2.0->rich<14.0,>=12.1->hyfi<2.0.0,>=1.35.3->hyfi-ml) (0.1.2)\r\n"
     ]
    },
    {
     "name": "stdout",
     "output_type": "stream",
     "text": [
      "Requirement already satisfied: six>=1.5 in /opt/hostedtoolcache/Python/3.9.18/x64/lib/python3.9/site-packages (from python-dateutil>=2.7->matplotlib<4.0.0,>=3.7.1->hyfi<2.0.0,>=1.35.3->hyfi-ml) (1.16.0)\r\n"
     ]
    },
    {
     "name": "stdout",
     "output_type": "stream",
     "text": [
      "Requirement already satisfied: soupsieve>1.2 in /opt/hostedtoolcache/Python/3.9.18/x64/lib/python3.9/site-packages (from beautifulsoup4->gdown<=5.1.0->hyfi<2.0.0,>=1.35.3->hyfi-ml) (2.5)\r\n",
      "Requirement already satisfied: PySocks!=1.5.7,>=1.5.6 in /opt/hostedtoolcache/Python/3.9.18/x64/lib/python3.9/site-packages (from requests[socks]->gdown<=5.1.0->hyfi<2.0.0,>=1.35.3->hyfi-ml) (1.7.1)\r\n"
     ]
    },
    {
     "name": "stdout",
     "output_type": "stream",
     "text": [
      "\r\n",
      "\u001b[1m[\u001b[0m\u001b[34;49mnotice\u001b[0m\u001b[1;39;49m]\u001b[0m\u001b[39;49m A new release of pip is available: \u001b[0m\u001b[31;49m23.0.1\u001b[0m\u001b[39;49m -> \u001b[0m\u001b[32;49m24.0\u001b[0m\r\n",
      "\u001b[1m[\u001b[0m\u001b[34;49mnotice\u001b[0m\u001b[1;39;49m]\u001b[0m\u001b[39;49m To update, run: \u001b[0m\u001b[32;49mpip install --upgrade pip\u001b[0m\r\n"
     ]
    },
    {
     "name": "stdout",
     "output_type": "stream",
     "text": [
      "Note: you may need to restart the kernel to use updated packages.\n"
     ]
    }
   ],
   "source": [
    "pip install hyfi-ml"
   ]
  },
  {
   "cell_type": "markdown",
   "id": "0fc130ef",
   "metadata": {},
   "source": [
    "## Usage\n",
    "\n",
    "```python\n",
    "from hyfiml import get_version\n",
    "\n",
    "print(get_version())\n",
    "```"
   ]
  }
 ],
 "metadata": {
  "jupytext": {
   "cell_metadata_filter": "-all",
   "formats": "md:myst",
   "text_representation": {
    "extension": ".md",
    "format_name": "myst",
    "format_version": 0.13,
    "jupytext_version": "1.11.5"
   }
  },
  "kernelspec": {
   "display_name": "Python 3",
   "language": "python",
   "name": "python3"
  },
  "language_info": {
   "codemirror_mode": {
    "name": "ipython",
    "version": 3
   },
   "file_extension": ".py",
   "mimetype": "text/x-python",
   "name": "python",
   "nbconvert_exporter": "python",
   "pygments_lexer": "ipython3",
   "version": "3.9.18"
  },
  "source_map": [
   14,
   24,
   26
  ]
 },
 "nbformat": 4,
 "nbformat_minor": 5
}